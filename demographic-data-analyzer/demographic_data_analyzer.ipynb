{
 "cells": [
  {
   "cell_type": "code",
   "execution_count": 41,
   "metadata": {},
   "outputs": [],
   "source": [
    "import pandas as pd\n",
    "from collections import Counter"
   ]
  },
  {
   "cell_type": "code",
   "execution_count": 71,
   "metadata": {},
   "outputs": [],
   "source": [
    "dataframe = pd.read_csv('adult_data.csv')\n",
    "df = pd.DataFrame(dataframe)"
   ]
  },
  {
   "cell_type": "code",
   "execution_count": 55,
   "metadata": {},
   "outputs": [
    {
     "name": "stdout",
     "output_type": "stream",
     "text": [
      "<class 'pandas.core.frame.DataFrame'>\n",
      "RangeIndex: 32561 entries, 0 to 32560\n",
      "Data columns (total 15 columns):\n",
      " #   Column          Non-Null Count  Dtype \n",
      "---  ------          --------------  ----- \n",
      " 0   age             32561 non-null  int64 \n",
      " 1   workclass       32561 non-null  object\n",
      " 2   fnlwgt          32561 non-null  int64 \n",
      " 3   education       32561 non-null  object\n",
      " 4   education-num   32561 non-null  int64 \n",
      " 5   marital-status  32561 non-null  object\n",
      " 6   occupation      32561 non-null  object\n",
      " 7   relationship    32561 non-null  object\n",
      " 8   race            32561 non-null  object\n",
      " 9   sex             32561 non-null  object\n",
      " 10  capital-gain    32561 non-null  int64 \n",
      " 11  capital-loss    32561 non-null  int64 \n",
      " 12  hours-per-week  32561 non-null  int64 \n",
      " 13  native-country  32561 non-null  object\n",
      " 14  salary          32561 non-null  object\n",
      "dtypes: int64(6), object(9)\n",
      "memory usage: 3.7+ MB\n"
     ]
    }
   ],
   "source": [
    "df.info()"
   ]
  },
  {
   "cell_type": "code",
   "execution_count": 54,
   "metadata": {},
   "outputs": [],
   "source": [
    "# How many of each race are represented in this dataset? This should be a Pandas series with race names as the index labels.\n",
    "race_count_dict = Counter(df['race'])\n",
    "race_count = pd.Series(race_count_dict)\n",
    "\n",
    "# What is the average age of men?\n",
    "average_age_men = df['age'].mean()\n",
    "\n",
    "# What is the percentage of people who have a Bachelor's degree?\n",
    "percentage_bachelors = ((df[df['education'] == 'Bachelors'].shape[0])/df['education'].shape[0])*100\n",
    "\n",
    " # What percentage of people with advanced education (`Bachelors`, `Masters`, or `Doctorate`) make more than 50K?\n",
    "filtered_df = df[(df['salary']== '>50K') & ((df['education']== 'Bachelors') | (df['education']== 'Masters') | (df['education']== 'Doctorate'))]\n",
    "higher_education_rich = (filtered_df.shape[0]/df['education'].shape[0])*100\n",
    "\n",
    "# What percentage of people without advanced education make more than 50K?\n",
    "filtered_df = df[(df['salary']== '>50K') & ((df['education']!= 'Bachelors') | (df['education']!= 'Masters') | (df['education']!= 'Doctorate'))]\n",
    "lower_education_rich =(filtered_df.shape[0]/df['education'].shape[0])*100\n",
    "\n",
    "# with and without `Bachelors`, `Masters`, or `Doctorate`\n",
    "higher_education = df[(df['education'] == 'Bachelors') | (df['education'] == \"Masters\") | (df['education'] == \"Doctorate\")].shape[0]\n",
    "lower_education = df[(df['education'] != 'Bachelors') | (df['education'] != \"Masters\") | (df['education'] != \"Doctorate\")].shape[0]\n",
    "\n",
    "# What is the minimum number of hours a person works per week (hours-per-week feature)?\n",
    "min_work_hours = df['hours-per-week'].min()\n",
    "\n",
    "# What percentage of the people who work the minimum number of hours per week have a salary of >50K?\n",
    "filtered_df = df[(df['hours-per-week'] == 1) & (df['salary']== '>50K')]\n",
    "num_min_workers = filtered_df.shape[0]\n",
    "rich_percentage = (filtered_df.shape[0]/df[(df['hours-per-week'] == 1)].shape[0])*100\n",
    "\n",
    "# What country has the highest percentage of people that earn >50K?\n",
    "temp_df = df[(df['salary']== '>50K')]\n",
    "count_temp_df = temp_df['native-country'].value_counts()\n",
    "count_total = df['native-country'].value_counts()\n",
    "percentage_high_salary = (count_temp_df/count_total)*100\n",
    "highest_earning_country = percentage_high_salary.idxmax()\n",
    "highest_earning_country_percentage = percentage_high_salary.max()\n",
    "\n"
   ]
  },
  {
   "cell_type": "code",
   "execution_count": null,
   "metadata": {},
   "outputs": [],
   "source": []
  },
  {
   "cell_type": "code",
   "execution_count": 96,
   "metadata": {},
   "outputs": [
    {
     "name": "stdout",
     "output_type": "stream",
     "text": [
      "41.86046511627907\n"
     ]
    }
   ],
   "source": [
    "temp_df = df[(df['salary']== '>50K')]\n",
    "count_temp_df = temp_df['native-country'].value_counts()\n",
    "count_total = df['native-country'].value_counts()\n",
    "percentage_high_salary = (count_temp_df/count_total)*100\n",
    "country_with_highest_percentage = percentage_high_salary.idxmax()\n",
    "highest_earning_country_percentage = percentage_high_salary.max()\n",
    "print(highest_earning_country_percentage)"
   ]
  },
  {
   "cell_type": "code",
   "execution_count": null,
   "metadata": {},
   "outputs": [],
   "source": [
    "\n",
    "    # Identify the most popular occupation for those who earn >50K in India.\n",
    "    top_IN_occupation = None\n",
    "\n",
    "    # DO NOT MODIFY BELOW THIS LINE\n",
    "\n",
    "    if print_data:\n",
    "        print(\"Number of each race:\\n\", race_count) \n",
    "        print(\"Average age of men:\", average_age_men)\n",
    "        print(f\"Percentage with Bachelors degrees: {percentage_bachelors}%\")\n",
    "        print(f\"Percentage with higher education that earn >50K: {higher_education_rich}%\")\n",
    "        print(f\"Percentage without higher education that earn >50K: {lower_education_rich}%\")\n",
    "        print(f\"Min work time: {min_work_hours} hours/week\")\n",
    "        print(f\"Percentage of rich among those who work fewest hours: {rich_percentage}%\")\n",
    "        print(\"Country with highest percentage of rich:\", highest_earning_country)\n",
    "        print(f\"Highest percentage of rich people in country: {highest_earning_country_percentage}%\")\n",
    "        print(\"Top occupations in India:\", top_IN_occupation)\n",
    "\n",
    "    return {\n",
    "        'race_count': race_count,\n",
    "        'average_age_men': average_age_men,\n",
    "        'percentage_bachelors': percentage_bachelors,\n",
    "        'higher_education_rich': higher_education_rich,\n",
    "        'lower_education_rich': lower_education_rich,\n",
    "        'min_work_hours': min_work_hours,\n",
    "        'rich_percentage': rich_percentage,\n",
    "        'highest_earning_country': highest_earning_country,\n",
    "        'highest_earning_country_percentage':\n",
    "        highest_earning_country_percentage,\n",
    "        'top_IN_occupation': top_IN_occupation\n",
    "    }"
   ]
  }
 ],
 "metadata": {
  "kernelspec": {
   "display_name": "base",
   "language": "python",
   "name": "python3"
  },
  "language_info": {
   "codemirror_mode": {
    "name": "ipython",
    "version": 3
   },
   "file_extension": ".py",
   "mimetype": "text/x-python",
   "name": "python",
   "nbconvert_exporter": "python",
   "pygments_lexer": "ipython3",
   "version": "3.11.7"
  }
 },
 "nbformat": 4,
 "nbformat_minor": 2
}
