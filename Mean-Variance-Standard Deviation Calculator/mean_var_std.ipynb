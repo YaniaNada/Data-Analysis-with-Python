{
 "cells": [
  {
   "cell_type": "code",
   "execution_count": 2,
   "metadata": {},
   "outputs": [],
   "source": [
    "import numpy as np"
   ]
  },
  {
   "cell_type": "code",
   "execution_count": 5,
   "metadata": {},
   "outputs": [],
   "source": [
    "'''\n",
    "list = np.random.randint(0,9, size=(9))\n",
    "array_arg=np.array(list)\n",
    "matrix_arg= array_arg.reshape(3,3)\n",
    "\n",
    "mean_a1 = np.mean(matrix_arg, axis=0)\n",
    "mean_a2 = np.mean(matrix_arg, axis=1)\n",
    "mean_flattened = np.mean(list)\n",
    "\n",
    "variance_a1 = np.var(matrix_arg, axis=0)\n",
    "variance_a2 = np.var(matrix_arg, axis=1)\n",
    "variance_flattened = np.var(list)\n",
    "\n",
    "std_dev_a1= np.std(matrix_arg, axis=0)\n",
    "std_dev_a2= np.std(matrix_arg, axis=1)\n",
    "std_dev_flattened = np.std(list)\n",
    "\n",
    "max_a1 = np.max(matrix_arg, axis=0)\n",
    "max_a2 = np.max(matrix_arg, axis=1)\n",
    "max_flattened = np.max(list)\n",
    "\n",
    "min_a1 = np.min(matrix_arg, axis=0)\n",
    "min_a2 = np.min(matrix_arg, axis=1)\n",
    "min_flattened = np.min(list)\n",
    "\n",
    "sum_a1 = np.sum(matrix_arg, axis =0)\n",
    "sum_a2 = np.sum(matrix_arg, axis =1)\n",
    "sum_flattened = np.sum(list)\n",
    "'''"
   ]
  },
  {
   "cell_type": "code",
   "execution_count": 13,
   "metadata": {},
   "outputs": [],
   "source": [
    "'''\n",
    "calculations = dict()\n",
    "calculations['mean'] = [mean_a1.tolist(), mean_a2.tolist(), mean_flattened.tolist()]\n",
    "calculations['variance'] = [variance_a1.tolist(), variance_a2.tolist(), variance_flattened.tolist()]\n",
    "calculations['standard deviation'] = [std_dev_a1.tolist(), std_dev_a2.tolist(), std_dev_flattened.tolist()]\n",
    "calculations['max'] = [max_a1.tolist(), max_a2.tolist(), max_flattened.tolist()]\n",
    "calculations['min'] = [min_a1.tolist(), min_a2.tolist(), min_flattened.tolist()]\n",
    "calculations['sum'] = [sum_a1.tolist(), sum_a2.tolist(), sum_flattened.tolist()]\n",
    "'''"
   ]
  },
  {
   "cell_type": "code",
   "execution_count": 15,
   "metadata": {},
   "outputs": [],
   "source": [
    "def calculate(list):\n",
    "    calculations = dict()\n",
    "    array_arg=np.array(list)\n",
    "    matrix_arg= array_arg.reshape(3,3)\n",
    "    mean_a1 = np.mean(matrix_arg, axis=0)\n",
    "    mean_a2 = np.mean(matrix_arg, axis=1)\n",
    "    mean_flattened = np.mean(list)\n",
    "    variance_a1 = np.var(matrix_arg, axis=0)\n",
    "    variance_a2 = np.var(matrix_arg, axis=1)\n",
    "    variance_flattened = np.var(list)\n",
    "    std_dev_a1= np.std(matrix_arg, axis=0)\n",
    "    std_dev_a2= np.std(matrix_arg, axis=1)\n",
    "    std_dev_flattened = np.std(list)\n",
    "    max_a1 = np.max(matrix_arg, axis=0)\n",
    "    max_a2 = np.max(matrix_arg, axis=1)\n",
    "    max_flattened = np.max(list)\n",
    "    min_a1 = np.min(matrix_arg, axis=0)\n",
    "    min_a2 = np.min(matrix_arg, axis=1)\n",
    "    min_flattened = np.min(list)\n",
    "    sum_a1 = np.sum(matrix_arg, axis =0)\n",
    "    sum_a2 = np.sum(matrix_arg, axis =1)\n",
    "    sum_flattened = np.sum(list)\n",
    "    calculations['mean'] = [mean_a1.tolist(), mean_a2.tolist(), mean_flattened.tolist()]\n",
    "    calculations['variance'] = [variance_a1.tolist(), variance_a2.tolist(), variance_flattened.tolist()]\n",
    "    calculations['standard deviation'] = [std_dev_a1.tolist(), std_dev_a2.tolist(), std_dev_flattened.tolist()]\n",
    "    calculations['max'] = [max_a1.tolist(), max_a2.tolist(), max_flattened.tolist()]\n",
    "    calculations['min'] = [min_a1.tolist(), min_a2.tolist(), min_flattened.tolist()]\n",
    "    calculations['sum'] = [sum_a1.tolist(), sum_a2.tolist(), sum_flattened.tolist()]\n",
    "    \n",
    "    return calculations"
   ]
  },
  {
   "cell_type": "code",
   "execution_count": null,
   "metadata": {},
   "outputs": [],
   "source": []
  },
  {
   "cell_type": "markdown",
   "metadata": {},
   "source": [
    "## output:\n",
    "{\n",
    "  'mean': [axis1, axis2, flattened],\n",
    "  \n",
    "  'variance': [axis1, axis2, flattened],\n",
    "  \n",
    "  'standard deviation': [axis1, axis2, flattened],\n",
    "  \n",
    "  'max': [axis1, axis2, flattened],\n",
    "  \n",
    "  'min': [axis1, axis2, flattened],\n",
    "  \n",
    "  'sum': [axis1, axis2, flattened]\n",
    "}"
   ]
  },
  {
   "cell_type": "code",
   "execution_count": null,
   "metadata": {},
   "outputs": [],
   "source": [
    "import mean_var_std\n",
    "from unittest import main\n",
    "\n",
    "print(mean_var_std.calculate([0,1,2,3,4,5,6,7,8]))"
   ]
  }
 ],
 "metadata": {
  "kernelspec": {
   "display_name": "base",
   "language": "python",
   "name": "python3"
  },
  "language_info": {
   "codemirror_mode": {
    "name": "ipython",
    "version": 3
   },
   "file_extension": ".py",
   "mimetype": "text/x-python",
   "name": "python",
   "nbconvert_exporter": "python",
   "pygments_lexer": "ipython3",
   "version": "3.11.7"
  }
 },
 "nbformat": 4,
 "nbformat_minor": 2
}
